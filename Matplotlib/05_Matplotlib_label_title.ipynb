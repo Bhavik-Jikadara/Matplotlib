{
 "metadata": {
  "language_info": {
   "codemirror_mode": {
    "name": "ipython",
    "version": 3
   },
   "file_extension": ".py",
   "mimetype": "text/x-python",
   "name": "python",
   "nbconvert_exporter": "python",
   "pygments_lexer": "ipython3",
   "version": "3.9.2-final"
  },
  "orig_nbformat": 2,
  "kernelspec": {
   "name": "python392jvsc74a57bd0d424a505e632b501b07e3a5c13107243aaca9bf8f527a2a65e70a9a51bf4e80c",
   "display_name": "Python 3.9.2 64-bit"
  }
 },
 "nbformat": 4,
 "nbformat_minor": 2,
 "cells": [
  {
   "source": [
    "# Create label for a plot\n",
    "with Pyplot, you can use the xlabel() and ylabel() functions to set a label for the x-axis and y-axis."
   ],
   "cell_type": "markdown",
   "metadata": {}
  },
  {
   "cell_type": "code",
   "execution_count": null,
   "metadata": {},
   "outputs": [],
   "source": [
    "import matplotlib.pyplot as plt\n",
    "import numpy as np\n",
    "\n",
    "x = np.array([84,56,8,9,43,4,56,87,46,2,1,64,1,1,31,64])\n",
    "y = np.array([78,89,45,65,7,8,9,12,32,56,48,13,6,56,56,5])\n",
    "\n",
    "plt.plot(x,y)\n",
    "plt.xlabel(\"The Xlabel\")\n",
    "plt.ylabel(\"The Ylabel\")\n",
    "plt.show()"
   ]
  },
  {
   "source": [
    "# Create a Title for a Plot\n",
    "with Pyplot, you can use the title() function to set a title for the plot"
   ],
   "cell_type": "markdown",
   "metadata": {}
  },
  {
   "cell_type": "code",
   "execution_count": null,
   "metadata": {},
   "outputs": [],
   "source": [
    "x = np.array([84,56,8,9,43,4,56,87,46,2,1,64,1,1,31,64])\n",
    "y = np.array([78,89,45,65,7,8,9,12,32,56,48,13,6,56,56,5])\n",
    "\n",
    "plt.plot(x,y)\n",
    "\n",
    "plt.title(\"Project Management Data\")\n",
    "plt.xlabel(\"Average Data\")\n",
    "plt.ylabel(\"Calculate Data\")\n",
    "plt.show()"
   ]
  },
  {
   "source": [
    "# Set Font Properties for Title and Labels\n",
    "You can use the fontdict parameter in xlabel(), ylabel(), and title() to set font properties, for the title and labels."
   ],
   "cell_type": "markdown",
   "metadata": {}
  },
  {
   "cell_type": "code",
   "execution_count": null,
   "metadata": {},
   "outputs": [],
   "source": [
    "x1 = np.array([12,23,60,78])\n",
    "y1 = np.array([45,56,78,89])\n",
    "\n",
    "font1 = {\n",
    "    'family': 'serif',\n",
    "    'color': 'blue',\n",
    "    'size': 20\n",
    "}\n",
    "font2 = {\n",
    "    'family': 'serif',\n",
    "    'color': 'darkred',\n",
    "    'size': 15\n",
    "}\n",
    "\n",
    "plt.title(\"Sports watch data\", fontdict = font1)\n",
    "plt.xlabel(\"Average Pulse\", fontdict= font2)\n",
    "plt.ylabel(\"Calorie Burnage\", fontdict = font2)\n",
    "\n",
    "plt.plot(x1, y1, 'r')\n",
    "plt.show()"
   ]
  },
  {
   "source": [
    "# Position the title\n",
    "    You can the loc parameter in title() to position the title.\n",
    "    Legal value are:\n",
    "    left\n",
    "    right\n",
    "    center (by default value)"
   ],
   "cell_type": "markdown",
   "metadata": {}
  },
  {
   "cell_type": "code",
   "execution_count": null,
   "metadata": {},
   "outputs": [],
   "source": [
    "import numpy as np\n",
    "import matplotlib.pyplot as plt\n",
    "\n",
    "x = np.array([80, 85, 90, 95, 100, 105, 110, 115, 120, 125])\n",
    "y = np.array([240, 250, 260, 270, 280, 290, 300, 310, 320, 330])\n",
    "\n",
    "# position the title\n",
    "plt.title(\"Sports Watch Data\", loc = 'left')\n",
    "# plt.title(\"Sports Watch Data\", loc = 'right')\n",
    "# plt.title(\"Sports Watch Data\", loc = 'center')\n",
    "\n",
    "plt.xlabel(\"Average Pulse\")\n",
    "plt.ylabel(\"Calorie Burnage\")\n",
    "\n",
    "plt.plot(x, y)\n",
    "plt.show()"
   ]
  }
 ]
}