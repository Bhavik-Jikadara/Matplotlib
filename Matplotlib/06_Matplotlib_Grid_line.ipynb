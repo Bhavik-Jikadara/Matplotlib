{
 "metadata": {
  "language_info": {
   "codemirror_mode": {
    "name": "ipython",
    "version": 3
   },
   "file_extension": ".py",
   "mimetype": "text/x-python",
   "name": "python",
   "nbconvert_exporter": "python",
   "pygments_lexer": "ipython3",
   "version": "3.9.2"
  },
  "orig_nbformat": 2,
  "kernelspec": {
   "name": "python392jvsc74a57bd0d424a505e632b501b07e3a5c13107243aaca9bf8f527a2a65e70a9a51bf4e80c",
   "display_name": "Python 3.9.2 64-bit"
  }
 },
 "nbformat": 4,
 "nbformat_minor": 2,
 "cells": [
  {
   "source": [
    "#  Matplotlib Adding Grid Lines\n",
    "    Add Grid Lines to a plot\n",
    "      with Pyplot, you can use the grid() function to add grid lines to the plot."
   ],
   "cell_type": "markdown",
   "metadata": {}
  },
  {
   "cell_type": "code",
   "execution_count": null,
   "metadata": {},
   "outputs": [],
   "source": [
    "import matplotlib.pyplot as plt\n",
    "import numpy as np\n",
    "\n",
    "x = np.array([5,10,10,15,15,20,20,25,25,30,30])\n",
    "y = np.array([5,10,15,20,25,30,35,40,45,50,55])\n",
    "\n",
    "plt.title(\"Odd-Even Number\")\n",
    "plt.xlabel(\"Odd Number label ------------>\")\n",
    "plt.ylabel(\"Even Number label ------------->\")\n",
    "plt.plot(x, y)\n",
    "plt.grid()\n",
    "plt.show()"
   ]
  },
  {
   "source": [
    "# Specify Which Grid Lines to Display\n",
    " You can usr axis parameter in the grid() function to specify which grid lines to display.\n",
    " Legal values are: x, y, and both. Default value is 'both'."
   ],
   "cell_type": "markdown",
   "metadata": {}
  },
  {
   "cell_type": "code",
   "execution_count": null,
   "metadata": {},
   "outputs": [],
   "source": [
    "import matplotlib.pyplot as plt\n",
    "\n",
    "x = np.array([5,10,10,15,15,20,20,25,25,30,30])\n",
    "y = np.array([5,10,15,20,25,30,35,40,45,50,55])\n",
    "\n",
    "plt.title(\"Sports Watch Data\")\n",
    "plt.xlabel(\"Average Pulse\")\n",
    "plt.ylabel(\"Calorie Burnage\")\n",
    "\n",
    "plt.plot(x, y)\n",
    "\n",
    "# plt.grid() # by default\n",
    "# plt.grid(axis = 'x')\n",
    "plt.grid(axis = 'y')\n",
    "\n",
    "plt.show()"
   ]
  },
  {
   "source": [
    "# Set Line Properties for the Grid\n",
    "You can also set the line properties of the grid, \n",
    "like:\n",
    "  grid(color= 'color', linestyle = 'linestyle', linewidth = number)."
   ],
   "cell_type": "markdown",
   "metadata": {}
  },
  {
   "cell_type": "code",
   "execution_count": null,
   "metadata": {},
   "outputs": [],
   "source": [
    "import numpy as np\n",
    "import matplotlib.pyplot as plt\n",
    "\n",
    "x = np.array([5,10,10,15,15,20,20,25,25,30,30])\n",
    "y = np.array([5,10,15,20,25,30,35,40,45,50,55])\n",
    "\n",
    "plt.title(\"Sports Watch Data\")\n",
    "plt.xlabel(\"Average Pulse\")\n",
    "plt.ylabel(\"Calorie Burnage\")\n",
    "\n",
    "plt.plot(x, y)\n",
    "\n",
    "plt.grid(color = 'green', linestyle = '--', linewidth = 1)\n",
    "\n",
    "plt.show()"
   ]
  }
 ]
}