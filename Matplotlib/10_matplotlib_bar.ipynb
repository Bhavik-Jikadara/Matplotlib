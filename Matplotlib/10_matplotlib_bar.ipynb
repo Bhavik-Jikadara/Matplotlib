{
 "metadata": {
  "language_info": {
   "codemirror_mode": {
    "name": "ipython",
    "version": 3
   },
   "file_extension": ".py",
   "mimetype": "text/x-python",
   "name": "python",
   "nbconvert_exporter": "python",
   "pygments_lexer": "ipython3",
   "version": "3.8.8-final"
  },
  "orig_nbformat": 2,
  "kernelspec": {
   "name": "python388jvsc74a57bd0607c5d15edb4676ba14e313b3e41dd58170812ac718eabc038447716fcae3432",
   "display_name": "Python 3.8.8 64-bit ('base': conda)"
  }
 },
 "nbformat": 4,
 "nbformat_minor": 2,
 "cells": [
  {
   "source": [
    "# Matplotlib Bars\n",
    "Creating Bars:\n",
    " with Pyplot, you can use the bar() function to draw bar graphs."
   ],
   "cell_type": "markdown",
   "metadata": {}
  },
  {
   "cell_type": "code",
   "execution_count": null,
   "metadata": {},
   "outputs": [],
   "source": [
    "import matplotlib.pyplot as plt\n",
    "import numpy as np\n",
    "\n",
    "x = np.array(['A','B','C','D'])\n",
    "y = np.array([3,8,1,10])\n",
    "\n",
    "plt.bar(x,y)\n",
    "plt.show()"
   ]
  },
  {
   "source": [
    "# Horizontal Bars\n",
    "If you want the bars to be displayed horizontally insted of vertically, use the \"  barh()  \" function:"
   ],
   "cell_type": "markdown",
   "metadata": {}
  },
  {
   "cell_type": "code",
   "execution_count": null,
   "metadata": {},
   "outputs": [],
   "source": [
    "x = np.array(['Apple', 'Banana', 'Orange'])\n",
    "y = np.array([120,20,40])\n",
    "\n",
    "plt.barh(x,y)\n",
    "plt.title('Fruits')\n",
    "\n",
    "plt.xlabel('Fruits Name')\n",
    "plt.ylabel('Price')\n",
    "plt.show()"
   ]
  },
  {
   "source": [
    "# Bar Color\n",
    "The bar() and barh() takes the keyword argument color to set the color of the bars:"
   ],
   "cell_type": "markdown",
   "metadata": {}
  },
  {
   "cell_type": "code",
   "execution_count": null,
   "metadata": {},
   "outputs": [],
   "source": [
    "import matplotlib.pyplot as plt\n",
    "import numpy as np\n",
    "\n",
    "x = np.array([\"A\", \"B\", \"C\", \"D\"])\n",
    "y = np.array([3, 8, 1, 10])\n",
    "\n",
    "plt.bar(x, y, color = \"red\")\n",
    "plt.show()"
   ]
  },
  {
   "source": [
    "# Bar Width\n",
    "The bar() takes the keyword argument width to set the width of the bars"
   ],
   "cell_type": "markdown",
   "metadata": {}
  },
  {
   "cell_type": "code",
   "execution_count": null,
   "metadata": {},
   "outputs": [],
   "source": [
    "x = np.array([\"A\", \"B\", \"C\", \"D\"])\n",
    "y = np.array([3, 8, 1, 10])\n",
    "\n",
    "plt.bar(x, y, width = 0.5)\n",
    "plt.show()"
   ]
  },
  {
   "source": [
    "# Bar Height\n",
    "The barh() takes the keyword argument height to set the height of the bars:"
   ],
   "cell_type": "markdown",
   "metadata": {}
  },
  {
   "cell_type": "code",
   "execution_count": null,
   "metadata": {},
   "outputs": [],
   "source": [
    "import numpy as np\n",
    "x = np.array([\"A\", \"B\", \"C\", \"D\"])\n",
    "y = np.array([3, 8, 1, 10])\n",
    "\n",
    "plt.barh(x, y, height = 0.4, color= 'r')\n",
    "plt.show()"
   ]
  }
 ]
}