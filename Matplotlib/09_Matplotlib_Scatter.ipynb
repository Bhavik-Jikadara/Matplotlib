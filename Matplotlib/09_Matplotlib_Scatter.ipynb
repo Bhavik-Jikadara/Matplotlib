{
 "metadata": {
  "language_info": {
   "codemirror_mode": {
    "name": "ipython",
    "version": 3
   },
   "file_extension": ".py",
   "mimetype": "text/x-python",
   "name": "python",
   "nbconvert_exporter": "python",
   "pygments_lexer": "ipython3",
   "version": "3.8.5-final"
  },
  "orig_nbformat": 2,
  "kernelspec": {
   "name": "python385jvsc74a57bd0607c5d15edb4676ba14e313b3e41dd58170812ac718eabc038447716fcae3432",
   "display_name": "Python 3.8.5 64-bit (conda)"
  }
 },
 "nbformat": 4,
 "nbformat_minor": 2,
 "cells": [
  {
   "source": [
    "# Matplotlib Scatter\n",
    "Creating Scatter Plots:\n",
    "with Pyplot, you can use the scatter() function to draw a scatter plot.\n",
    "The scatter() function plots one dot for each observation. It needs two arrays of the same lengh, one for the values of the x-axis, and one for values on the y-axis."
   ],
   "cell_type": "markdown",
   "metadata": {}
  },
  {
   "cell_type": "code",
   "execution_count": null,
   "metadata": {},
   "outputs": [],
   "source": [
    "import matplotlib.pyplot as plt\n",
    "import numpy as np\n",
    "\n",
    "x = np.array([5,7,8,7,2,17,2,9])\n",
    "y = np.array([99,86,87,88,111,86,103,87])\n",
    "\n",
    "plt.scatter(x,y)\n",
    "plt.show()"
   ]
  },
  {
   "source": [
    "# Compare Plots\n",
    "In the example above, there seems to be a relationship between speed and age, but what if we plot the observations from another day as well? will the scatter plot tell us something else?"
   ],
   "cell_type": "markdown",
   "metadata": {}
  },
  {
   "cell_type": "code",
   "execution_count": null,
   "metadata": {},
   "outputs": [],
   "source": [
    "import numpy as np\n",
    "# day one, the age and speed of 10 cars:\n",
    "x = np.array([5,7,8,9,4,5,6,5,2,1])\n",
    "y = np.array([80,70,90,20,30,80,40,50,60,100])\n",
    "plt.scatter(x,y)\n",
    "\n",
    "# day two, the age and speed of 15 cars\n",
    "x1 = np.array([2,2,8,1,15,8,12,9,7,3,11,4,7])\n",
    "y1 = np.array([100,105,84,105,90,99,90,95,94,100,79,112,91])\n",
    "plt.scatter(x1, y1)\n",
    "\n",
    "plt.show()"
   ]
  },
  {
   "source": [
    "# Colors\n",
    "You can set your own color for each scatter plot with the color or the c."
   ],
   "cell_type": "markdown",
   "metadata": {}
  },
  {
   "cell_type": "code",
   "execution_count": null,
   "metadata": {},
   "outputs": [],
   "source": [
    "import numpy as np\n",
    "# day one, the age and speed of 10 cars:\n",
    "x = np.array([5,7,8,9,4,5,6,5,2,1])\n",
    "y = np.array([80,70,90,20,30,80,40,50,60,100])\n",
    "plt.scatter(x,y, color = 'hotpink')  # Color use\n",
    "\n",
    "# day two, the age and speed of 13 cars\n",
    "x1 = np.array([2,2,8,1,15,8,12,9,7,3,11,4,7])\n",
    "y1 = np.array([100,105,84,105,90,99,90,95,94,100,79,112,91])\n",
    "plt.scatter(x1, y1, c = '#88c999') # color use\n",
    "\n",
    "plt.show()"
   ]
  },
  {
   "source": [
    "# Color Each Dot\n",
    "you can even set a specific color for each dot by using an array of colors as value for the c argument:"
   ],
   "cell_type": "markdown",
   "metadata": {}
  },
  {
   "cell_type": "code",
   "execution_count": null,
   "metadata": {},
   "outputs": [],
   "source": [
    "import numpy as np\n",
    "x = np.array([5,7,8,7,2,17,2,9,4,11,12,9,6])\n",
    "y = np.array([99,86,87,88,111,86,103,87,94,78,77,85,86])\n",
    "colors = np.array([\"red\",\"green\",\"blue\",\"yellow\",\"pink\",\"black\",\"orange\",\"purple\",\"beige\",\"brown\",\"gray\",\"cyan\",\"magenta\"])\n",
    "\n",
    "plt.scatter(x, y, c=colors)\n",
    "\n",
    "plt.show()"
   ]
  },
  {
   "source": [
    "# Colormap\n",
    "The Matplotlib module has a number of available colormaps.\n",
    "A colormap is like a list of colors, where each color has a value that ranges from 0 to 100.\n",
    "# Colormap use cmap keyword\n",
    "Here is an example of a colormap:"
   ],
   "cell_type": "markdown",
   "metadata": {}
  },
  {
   "cell_type": "code",
   "execution_count": null,
   "metadata": {},
   "outputs": [],
   "source": [
    "import numpy as np\n",
    "x = np.array([5,7,8,7,2,17,2,9,4,11,12,9,6])\n",
    "y = np.array([99,86,87,88,111,86,103,87,94,78,77,85,86])\n",
    "colors = np.array([0, 10, 20, 30, 40, 45, 50, 55, 60, 70, 80, 90, 100])\n",
    "\n",
    "plt.scatter(x, y, c=colors, cmap='viridis')\n",
    "# without colorbar()\n",
    "\n",
    "plt.show()"
   ]
  },
  {
   "cell_type": "code",
   "execution_count": null,
   "metadata": {},
   "outputs": [],
   "source": [
    "plt.scatter(x, y, c=colors, cmap='viridis')\n",
    "\n",
    "plt.colorbar()\n",
    "plt.show()"
   ]
  },
  {
   "source": [
    "# Size\n",
    "You can change the size of the dots with the s argument.\n",
    "Just like colors, make sure the array for sizes has the same lengh as the arrays for the x-axis and y-axis."
   ],
   "cell_type": "markdown",
   "metadata": {}
  },
  {
   "cell_type": "code",
   "execution_count": null,
   "metadata": {},
   "outputs": [],
   "source": [
    "import matplotlib.pyplot as plt\n",
    "import numpy as np\n",
    "\n",
    "x = np.array([5,7,8,72,17,2,9,4,11])\n",
    "y = np.array([99,78,90,67,56,89,90,45,34])\n",
    "\n",
    "# sizes\n",
    "sizes = np.array([20,50,100,200,500,1000,60,90,30])\n",
    "\n",
    "plt.scatter(x,y,s=sizes)\n",
    "plt.show()"
   ]
  },
  {
   "source": [
    "# Alpha\n",
    "You can adjust the transparency of the dots with the alpha argument.\n",
    "Just like colors, make sure the array for sizes has the same length as the arrays for the x- and y-axis:"
   ],
   "cell_type": "markdown",
   "metadata": {}
  },
  {
   "cell_type": "code",
   "execution_count": null,
   "metadata": {},
   "outputs": [],
   "source": [
    "import numpy as np\n",
    "x = np.array([5,7,8,7,2,17,2,9,4,11,12,9,6])\n",
    "y = np.array([99,86,87,88,111,86,103,87,94,78,77,85,86])\n",
    "sizes = np.array([20,50,100,200,500,1000,60,90,10,300,600,800,75])\n",
    "\n",
    "plt.scatter(x, y, s=sizes, alpha=0.5)\n",
    "\n",
    "plt.show()"
   ]
  },
  {
   "source": [
    "# Combine Color Size and Alpha\n",
    "You can combine a colormap with different sizes on the dots. This is best visualized if the dots are transparent"
   ],
   "cell_type": "markdown",
   "metadata": {}
  },
  {
   "cell_type": "code",
   "execution_count": null,
   "metadata": {},
   "outputs": [],
   "source": [
    "import numpy as np\n",
    "x = np.random.randint(100, size=(100))\n",
    "y = np.random.randint(100, size=(100))\n",
    "\n",
    "colors = np.random.randint(100, size=(100))\n",
    "sizes = 10 * np.random.randint(100, size=(100))\n",
    "\n",
    "plt.scatter(x,y, c = colors, s = sizes, alpha=0.5, cmap='nipy_spectral')\n",
    "plt.colorbar()\n",
    "plt.show()"
   ]
  }
 ]
}