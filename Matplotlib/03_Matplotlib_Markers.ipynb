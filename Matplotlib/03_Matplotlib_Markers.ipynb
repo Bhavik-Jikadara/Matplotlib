{
 "metadata": {
  "language_info": {
   "codemirror_mode": {
    "name": "ipython",
    "version": 3
   },
   "file_extension": ".py",
   "mimetype": "text/x-python",
   "name": "python",
   "nbconvert_exporter": "python",
   "pygments_lexer": "ipython3",
   "version": "3.9.2-final"
  },
  "orig_nbformat": 2,
  "kernelspec": {
   "name": "python392jvsc74a57bd0d424a505e632b501b07e3a5c13107243aaca9bf8f527a2a65e70a9a51bf4e80c",
   "display_name": "Python 3.9.2 64-bit"
  }
 },
 "nbformat": 4,
 "nbformat_minor": 2,
 "cells": [
  {
   "source": [
    "#  Markers\n",
    "You can use the keyword argument marker to emphasize each point with a specfied markeer."
   ],
   "cell_type": "markdown",
   "metadata": {}
  },
  {
   "cell_type": "code",
   "execution_count": null,
   "metadata": {},
   "outputs": [],
   "source": [
    "import matplotlib.pyplot as plt\n",
    "import numpy as np\n",
    "\n",
    "yPoints = np.array([3,8,1,10])\n",
    "\n",
    "# marker use\n",
    "plt.plot(yPoints, Marker = 'o')\n",
    "# plt.plot(yPoints, Marker = '*')\n",
    "\n",
    "plt.show()"
   ]
  },
  {
   "source": [
    "#  Marker use"
   ],
   "cell_type": "markdown",
   "metadata": {}
  },
  {
   "cell_type": "code",
   "execution_count": null,
   "metadata": {},
   "outputs": [],
   "source": [
    "\"\"\"\n",
    "o -> Circle\n",
    "* -> Star\n",
    ". -> Point\n",
    ", -> Pixel\n",
    "x -> X\n",
    "X -> X(filled)\n",
    "+ -> Plus\n",
    "P -> Plus(filled)\n",
    "s -> Square\n",
    "D -> Diamond\n",
    "d -> Diamond(thin)\n",
    "p -> Pentagon\n",
    "H -> Hexagon\n",
    "h -> Hexagon\n",
    "v -> Triangle Down\n",
    "^ -> Triangle Up\n",
    "< -> Triangle Left\n",
    "> -> Triangle Right\n",
    "1 -> Tri Down\n",
    "2 -> Tri Up\n",
    "3 -> Tri Left\n",
    "4 -> Tri Right\n",
    "| -> Vline\n",
    "_ -> Hline\n",
    "\n",
    "\"\"\""
   ]
  },
  {
   "source": [
    "# Format String fmt"
   ],
   "cell_type": "markdown",
   "metadata": {}
  },
  {
   "cell_type": "code",
   "execution_count": null,
   "metadata": {},
   "outputs": [],
   "source": [
    "\"\"\"\n",
    "    You can use also use the shortcut string notation parameter to specify the marker.\n",
    "    This parameter is also called fmt, and is written with this syntax:\n",
    "\n",
    "            marker|line|color\n",
    "\n",
    "Line Reference:\n",
    "\n",
    "-  -> Solid line\n",
    ":  -> Dotted Line\n",
    "-- -> Dashed Line\n",
    "-. -> Dashed/ dotted line\n",
    "\n",
    "Color Reference:\n",
    "r -> Red\n",
    "g -> Green\n",
    "b -> Blue\n",
    "c -> Cyan\n",
    "m -> Magenta\n",
    "y -> Yellow\n",
    "k -> Black\n",
    "w -> White\n",
    "\n",
    "\"\"\"\n",
    "import matplotlib.pyplot as plt\n",
    "import numpy as np\n",
    "\n",
    "ypoints = np.array([1,8,5,4])\n",
    "# plt.plot(ypoints, 'o:r')\n",
    "# plt.plot(ypoints, 'o-r')\n",
    "# plt.plot(ypoints, 'o--r')\n",
    "plt.plot(ypoints, 'o-.r')\n",
    "\n",
    "plt.show()"
   ]
  },
  {
   "source": [
    "#  Marker Size\n",
    "\n",
    "You can use the keyword argument markersize or the shorter version, ms to set the size of the markers\n"
   ],
   "cell_type": "markdown",
   "metadata": {}
  },
  {
   "cell_type": "code",
   "execution_count": null,
   "metadata": {},
   "outputs": [],
   "source": [
    "import matplotlib.pyplot as plt\n",
    "import numpy as np\n",
    "\n",
    "ypoint2 = np.array([3,8,1,10])\n",
    "\n",
    "#  master size (ms use)\n",
    "plt.plot(ypoint2, marker = 's', ms=20)\n",
    "plt.show()"
   ]
  },
  {
   "source": [
    "#  Marker Color\n",
    "You can use the keyword argument markeredgecolor or the shorter mec to set the color of the edge of the markers:"
   ],
   "cell_type": "markdown",
   "metadata": {}
  },
  {
   "cell_type": "code",
   "execution_count": null,
   "metadata": {},
   "outputs": [],
   "source": [
    "import matplotlib.pyplot as plt\n",
    "import numpy as np\n",
    "\n",
    "ypoint = np.array([3,8,1,10])\n",
    "\n",
    "plt.plot(ypoint,'y',marker= 's', ms = 15, mec = 'r')\n",
    "plt.show()"
   ]
  },
  {
   "source": [
    "# Markerfacecolor\n",
    "You can use the keyword argument markerfacecolor or the shorter mfc to set the color inside the edge of the markers:"
   ],
   "cell_type": "markdown",
   "metadata": {}
  },
  {
   "cell_type": "code",
   "execution_count": null,
   "metadata": {},
   "outputs": [],
   "source": [
    "import matplotlib.pyplot as plt\n",
    "import numpy as np\n",
    "\n",
    "y = np.array([3,8,1,10])\n",
    "\n",
    "plt.plot(y, 'y', marker = 'o', ms = 10, mfc = 'red')\n",
    "plt.show()"
   ]
  }
 ]
}