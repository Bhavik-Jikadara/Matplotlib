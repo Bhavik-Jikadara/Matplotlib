{
 "metadata": {
  "language_info": {
   "codemirror_mode": {
    "name": "ipython",
    "version": 3
   },
   "file_extension": ".py",
   "mimetype": "text/x-python",
   "name": "python",
   "nbconvert_exporter": "python",
   "pygments_lexer": "ipython3",
   "version": "3.9.2-final"
  },
  "orig_nbformat": 2,
  "kernelspec": {
   "name": "python392jvsc74a57bd0d424a505e632b501b07e3a5c13107243aaca9bf8f527a2a65e70a9a51bf4e80c",
   "display_name": "Python 3.9.2 64-bit"
  }
 },
 "nbformat": 4,
 "nbformat_minor": 2,
 "cells": [
  {
   "cell_type": "code",
   "execution_count": null,
   "metadata": {},
   "outputs": [],
   "source": [
    "# Most of the Matplotlib utilities lies under the pyplot submodule, and usually imported under the plt alias\n",
    "# pyplot imprt\n",
    "import matplotlib.pyplot as plt\n",
    "import numpy as np\n",
    "\n",
    "# The plot() function is used to draw points (markers) in a diagram.\n",
    "# By default, the plot() function draws a line from point to point.\n",
    "\n",
    "xPoints = np.array([1,8])\n",
    "yPoints = np.array([3,8])\n",
    "\n",
    "plt.plot(xPoints, yPoints)\n",
    "plt.show()"
   ]
  },
  {
   "source": [
    "# Plotting without Line"
   ],
   "cell_type": "markdown",
   "metadata": {}
  },
  {
   "cell_type": "code",
   "execution_count": null,
   "metadata": {},
   "outputs": [],
   "source": [
    "import matplotlib.pyplot as plt\n",
    "import numpy as np\n",
    "\n",
    "xPoint = np.array([1,4])\n",
    "yPoint = np.array([3,5])\n",
    "\n",
    "plt.plot(xPoint, yPoint, \"o\")\n",
    "plt.show()"
   ]
  },
  {
   "source": [
    "# Multiple Points"
   ],
   "cell_type": "markdown",
   "metadata": {}
  },
  {
   "cell_type": "code",
   "execution_count": null,
   "metadata": {},
   "outputs": [],
   "source": [
    "import matplotlib.pyplot as plt\n",
    "import numpy as np\n",
    "\n",
    "xpoint1 = np.array([1, 2, 6, 8])\n",
    "ypoint2 = np.array([3, 8, 1, 10])\n",
    "\n",
    "plt.plot(xpoint1, ypoint2)\n",
    "plt.show()"
   ]
  },
  {
   "source": [
    "#  Default X - Points"
   ],
   "cell_type": "markdown",
   "metadata": {}
  },
  {
   "cell_type": "code",
   "execution_count": null,
   "metadata": {},
   "outputs": [],
   "source": [
    "import matplotlib.pyplot as plt\n",
    "import numpy as np\n",
    "\n",
    "xpoints = np.array([3, 8, 1, 10, 5, 7])\n",
    "\n",
    "plt.plot(xpoints)\n",
    "plt.show()"
   ]
  }
 ]
}