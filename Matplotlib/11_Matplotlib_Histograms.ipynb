{
 "metadata": {
  "language_info": {
   "codemirror_mode": {
    "name": "ipython",
    "version": 3
   },
   "file_extension": ".py",
   "mimetype": "text/x-python",
   "name": "python",
   "nbconvert_exporter": "python",
   "pygments_lexer": "ipython3",
   "version": "3.8.5-final"
  },
  "orig_nbformat": 2,
  "kernelspec": {
   "name": "python385jvsc74a57bd0607c5d15edb4676ba14e313b3e41dd58170812ac718eabc038447716fcae3432",
   "display_name": "Python 3.8.5 64-bit (conda)"
  }
 },
 "nbformat": 4,
 "nbformat_minor": 2,
 "cells": [
  {
   "source": [
    "# Histogram\n",
    "\"\"\"\n",
    "    A histogram is a graph showing frequency distributions.\n",
    "    It is a graph showing the number of observations within each given interval.\n",
    "\"\"\"\n"
   ],
   "cell_type": "markdown",
   "metadata": {}
  },
  {
   "cell_type": "code",
   "execution_count": null,
   "metadata": {},
   "outputs": [],
   "source": [
    "# Create Histogram\n",
    "\"\"\"\n",
    "    In Matplotlib, we use the hist() function to create histograms.\n",
    "\n",
    "The hist() function will use an array of numbers to create a histogram, the array is sent into the function as an argument.\n",
    "\"\"\"\n",
    "import numpy as np\n",
    "\n",
    "x = np.random.normal(170, 10, 250)\n",
    "print(x)"
   ]
  },
  {
   "cell_type": "code",
   "execution_count": null,
   "metadata": {},
   "outputs": [],
   "source": [
    "import matplotlib.pyplot as plt\n",
    "import numpy as np\n",
    "\n",
    "x = np.random.normal(170, 10, 250)\n",
    "plt.hist(x)\n",
    "\n",
    "plt.show()"
   ]
  }
 ]
}