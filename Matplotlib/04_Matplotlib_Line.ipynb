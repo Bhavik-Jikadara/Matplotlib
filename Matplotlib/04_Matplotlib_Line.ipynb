{
 "metadata": {
  "language_info": {
   "codemirror_mode": {
    "name": "ipython",
    "version": 3
   },
   "file_extension": ".py",
   "mimetype": "text/x-python",
   "name": "python",
   "nbconvert_exporter": "python",
   "pygments_lexer": "ipython3",
   "version": "3.9.2"
  },
  "orig_nbformat": 2,
  "kernelspec": {
   "name": "python392jvsc74a57bd0d424a505e632b501b07e3a5c13107243aaca9bf8f527a2a65e70a9a51bf4e80c",
   "display_name": "Python 3.9.2 64-bit"
  }
 },
 "nbformat": 4,
 "nbformat_minor": 2,
 "cells": [
  {
   "source": [
    "# Linestyle\n",
    "\"\"\"\n",
    " You can use the keyword argument linestyle, or shorter ls, to change the style of the plotted line.\n",
    "\"\"\""
   ],
   "cell_type": "markdown",
   "metadata": {}
  },
  {
   "cell_type": "code",
   "execution_count": null,
   "metadata": {},
   "outputs": [],
   "source": [
    "import matplotlib.pyplot as plt\n",
    "import numpy as np\n",
    "\n",
    "y1 = np.array([4,3,10,2])\n",
    "\n",
    "plt.plot(y1, 'g', linestyle = 'dotted')\n",
    "plt.show()"
   ]
  },
  {
   "cell_type": "code",
   "execution_count": null,
   "metadata": {},
   "outputs": [],
   "source": [
    "import numpy as np\n",
    "y1 = np.array([4,3,10,2])\n",
    "\n",
    "plt.plot(y1, 'r', linestyle = 'dashed')\n",
    "plt.show()"
   ]
  },
  {
   "cell_type": "code",
   "execution_count": null,
   "metadata": {},
   "outputs": [],
   "source": [
    "import numpy as np\n",
    "y1 = np.array([4,3,10,2])\n",
    "\n",
    "plt.plot(y1, 'g', ls = ':')\n",
    "plt.show()"
   ]
  },
  {
   "source": [
    "#  Line Color\n",
    "You can use the keyword argument color or the shorter c to set the color of the line:\n"
   ],
   "cell_type": "markdown",
   "metadata": {}
  },
  {
   "cell_type": "code",
   "execution_count": null,
   "metadata": {},
   "outputs": [],
   "source": [
    "import numpy as np\n",
    "y1 = np.array([4,3,10,2])\n",
    "\n",
    "plt.plot(y1, color = 'b')\n",
    "plt.show()"
   ]
  },
  {
   "source": [
    "# Multiple Lines\n",
    "You can plot as many lines as you like by simply adding more \n",
    "plt.plot() functions:"
   ],
   "cell_type": "markdown",
   "metadata": {}
  },
  {
   "cell_type": "code",
   "execution_count": null,
   "metadata": {},
   "outputs": [],
   "source": [
    "import matplotlib.pyplot as plt\n",
    "import numpy as np\n",
    "\n",
    "x1 = np.array([1,5,2,3,7,8,9])\n",
    "y1 = np.array([5,4,7,2,1,9,3])\n",
    "\n",
    "plt.plot(x1, c = 'r')\n",
    "plt.plot(y1, c = 'b')\n",
    "\n",
    "plt.show()"
   ]
  },
  {
   "cell_type": "code",
   "execution_count": null,
   "metadata": {},
   "outputs": [],
   "source": [
    "x1 = np.array([0, 1, 2, 3])\n",
    "y1 = np.array([3, 8, 1, 10])\n",
    "x2 = np.array([0, 1, 2, 3])\n",
    "y2 = np.array([6, 2, 7, 11])\n",
    "\n",
    "plt.plot(x1, y1, x2, y2)\n",
    "plt.show()"
   ]
  }
 ]
}